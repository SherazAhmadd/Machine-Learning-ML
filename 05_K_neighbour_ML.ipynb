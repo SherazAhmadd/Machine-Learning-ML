{
 "cells": [
  {
   "cell_type": "code",
   "execution_count": 13,
   "metadata": {},
   "outputs": [
    {
     "data": {
      "text/html": [
       "<div>\n",
       "<style scoped>\n",
       "    .dataframe tbody tr th:only-of-type {\n",
       "        vertical-align: middle;\n",
       "    }\n",
       "\n",
       "    .dataframe tbody tr th {\n",
       "        vertical-align: top;\n",
       "    }\n",
       "\n",
       "    .dataframe thead th {\n",
       "        text-align: right;\n",
       "    }\n",
       "</style>\n",
       "<table border=\"1\" class=\"dataframe\">\n",
       "  <thead>\n",
       "    <tr style=\"text-align: right;\">\n",
       "      <th></th>\n",
       "      <th>Age</th>\n",
       "      <th>Height</th>\n",
       "      <th>Weight</th>\n",
       "      <th>Gender</th>\n",
       "      <th>Likeness</th>\n",
       "    </tr>\n",
       "  </thead>\n",
       "  <tbody>\n",
       "    <tr>\n",
       "      <th>0</th>\n",
       "      <td>53</td>\n",
       "      <td>153.278361</td>\n",
       "      <td>79.183453</td>\n",
       "      <td>1</td>\n",
       "      <td>Samosa</td>\n",
       "    </tr>\n",
       "    <tr>\n",
       "      <th>1</th>\n",
       "      <td>56</td>\n",
       "      <td>199.333636</td>\n",
       "      <td>60.453554</td>\n",
       "      <td>1</td>\n",
       "      <td>Samosa</td>\n",
       "    </tr>\n",
       "    <tr>\n",
       "      <th>2</th>\n",
       "      <td>40</td>\n",
       "      <td>176.137288</td>\n",
       "      <td>79.703309</td>\n",
       "      <td>0</td>\n",
       "      <td>Samosa</td>\n",
       "    </tr>\n",
       "    <tr>\n",
       "      <th>3</th>\n",
       "      <td>64</td>\n",
       "      <td>168.847337</td>\n",
       "      <td>57.181763</td>\n",
       "      <td>0</td>\n",
       "      <td>Biryani</td>\n",
       "    </tr>\n",
       "    <tr>\n",
       "      <th>4</th>\n",
       "      <td>47</td>\n",
       "      <td>176.453651</td>\n",
       "      <td>95.345925</td>\n",
       "      <td>1</td>\n",
       "      <td>Samosa</td>\n",
       "    </tr>\n",
       "  </tbody>\n",
       "</table>\n",
       "</div>"
      ],
      "text/plain": [
       "   Age      Height     Weight  Gender Likeness\n",
       "0   53  153.278361  79.183453       1   Samosa\n",
       "1   56  199.333636  60.453554       1   Samosa\n",
       "2   40  176.137288  79.703309       0   Samosa\n",
       "3   64  168.847337  57.181763       0  Biryani\n",
       "4   47  176.453651  95.345925       1   Samosa"
      ]
     },
     "execution_count": 13,
     "metadata": {},
     "output_type": "execute_result"
    }
   ],
   "source": [
    "import pandas as pd\n",
    "df = pd.read_csv('ML_data.csv')\n",
    "df['Gender'] = df['Gender'].replace(\"Male\",1)\n",
    "df['Gender'] = df['Gender'].replace(\"Female\",0)\n",
    "df.head()"
   ]
  },
  {
   "cell_type": "code",
   "execution_count": 9,
   "metadata": {},
   "outputs": [
    {
     "data": {
      "text/html": [
       "<div>\n",
       "<style scoped>\n",
       "    .dataframe tbody tr th:only-of-type {\n",
       "        vertical-align: middle;\n",
       "    }\n",
       "\n",
       "    .dataframe tbody tr th {\n",
       "        vertical-align: top;\n",
       "    }\n",
       "\n",
       "    .dataframe thead th {\n",
       "        text-align: right;\n",
       "    }\n",
       "</style>\n",
       "<table border=\"1\" class=\"dataframe\">\n",
       "  <thead>\n",
       "    <tr style=\"text-align: right;\">\n",
       "      <th></th>\n",
       "      <th>Weight</th>\n",
       "      <th>Gender</th>\n",
       "    </tr>\n",
       "  </thead>\n",
       "  <tbody>\n",
       "    <tr>\n",
       "      <th>0</th>\n",
       "      <td>79</td>\n",
       "      <td>1</td>\n",
       "    </tr>\n",
       "    <tr>\n",
       "      <th>1</th>\n",
       "      <td>60</td>\n",
       "      <td>1</td>\n",
       "    </tr>\n",
       "    <tr>\n",
       "      <th>2</th>\n",
       "      <td>79</td>\n",
       "      <td>0</td>\n",
       "    </tr>\n",
       "    <tr>\n",
       "      <th>3</th>\n",
       "      <td>57</td>\n",
       "      <td>0</td>\n",
       "    </tr>\n",
       "    <tr>\n",
       "      <th>4</th>\n",
       "      <td>95</td>\n",
       "      <td>1</td>\n",
       "    </tr>\n",
       "  </tbody>\n",
       "</table>\n",
       "</div>"
      ],
      "text/plain": [
       "   Weight  Gender\n",
       "0      79       1\n",
       "1      60       1\n",
       "2      79       0\n",
       "3      57       0\n",
       "4      95       1"
      ]
     },
     "execution_count": 9,
     "metadata": {},
     "output_type": "execute_result"
    }
   ],
   "source": [
    "# Selection of input and output data\n",
    "x = df[['Weight','Gender']]\n",
    "y = df['Likeness']\n",
    "df['Weight']= df['Weight'].astype(int)\n",
    "x.head()"
   ]
  },
  {
   "cell_type": "code",
   "execution_count": 24,
   "metadata": {},
   "outputs": [
    {
     "name": "stderr",
     "output_type": "stream",
     "text": [
      "c:\\Users\\hp\\AppData\\Local\\Programs\\Python\\Python311\\Lib\\site-packages\\sklearn\\base.py:464: UserWarning: X does not have valid feature names, but KNeighborsClassifier was fitted with feature names\n",
      "  warnings.warn(\n"
     ]
    },
    {
     "data": {
      "text/plain": [
       "array(['Samosa'], dtype=object)"
      ]
     },
     "execution_count": 24,
     "metadata": {},
     "output_type": "execute_result"
    }
   ],
   "source": [
    "# Creating the Model \n",
    "from sklearn.neighbors import KNeighborsClassifier\n",
    "# Trains the model on data\n",
    "model = KNeighborsClassifier(n_neighbors=5).fit(x,y)\n",
    "# get prefiction from model\n",
    "predicted_values = model.predict([[79,1]])\n",
    "predicted_values"
   ]
  },
  {
   "cell_type": "code",
   "execution_count": 86,
   "metadata": {},
   "outputs": [
    {
     "name": "stdout",
     "output_type": "stream",
     "text": [
      "the predicted values for test is: \n",
      " ['Biryani' 'Biryani' 'Samosa' 'Samosa' 'Biryani' 'Samosa' 'Samosa'\n",
      " 'Biryani' 'Samosa' 'Samosa' 'Biryani' 'Biryani' 'Samosa' 'Biryani'\n",
      " 'Samosa' 'Samosa' 'Samosa' 'Samosa' 'Samosa' 'Biryani']\n",
      "The accuracy of model is 60 %\n"
     ]
    }
   ],
   "source": [
    "# checking the accuracy or evaluating the matrics\n",
    "from sklearn.model_selection import train_test_split\n",
    "from sklearn.metrics import accuracy_score\n",
    "# splitting the data in 80/20\n",
    "x_train,x_test,y_train,y_test = train_test_split(x,y,test_size= 0.2)\n",
    "# creating the model for testing\n",
    "model = KNeighborsClassifier(n_neighbors=7).fit(x_train,y_train)\n",
    "prediction = model.predict(x_test)\n",
    "print(\"the predicted values for test is: \\n\",prediction)\n",
    "# checking the score\n",
    "score = accuracy_score(y_test,prediction)\n",
    "core = print(\"The accuracy of model is\",int(score*100),\"%\")\n",
    "core"
   ]
  },
  {
   "cell_type": "code",
   "execution_count": 91,
   "metadata": {},
   "outputs": [
    {
     "data": {
      "text/plain": [
       "array(['Samosa', 'Biryani', 'Samosa', 'Biryani', 'Samosa', 'Samosa',\n",
       "       'Samosa', 'Samosa', 'Samosa', 'Samosa', 'Biryani', 'Samosa',\n",
       "       'Biryani', 'Samosa', 'Samosa', 'Samosa', 'Samosa', 'Biryani',\n",
       "       'Biryani', 'Samosa', 'Samosa', 'Samosa', 'Samosa', 'Biryani',\n",
       "       'Biryani', 'Biryani', 'Samosa', 'Samosa', 'Samosa', 'Biryani',\n",
       "       'Samosa', 'Biryani', 'Samosa', 'Samosa', 'Samosa', 'Samosa',\n",
       "       'Samosa', 'Biryani', 'Biryani', 'Samosa', 'Samosa', 'Samosa',\n",
       "       'Samosa', 'Biryani', 'Biryani', 'Samosa', 'Biryani', 'Samosa',\n",
       "       'Samosa', 'Biryani', 'Samosa', 'Samosa', 'Samosa', 'Samosa',\n",
       "       'Biryani', 'Biryani', 'Samosa', 'Samosa', 'Biryani', 'Samosa',\n",
       "       'Samosa', 'Samosa', 'Biryani', 'Samosa', 'Samosa', 'Samosa',\n",
       "       'Samosa', 'Samosa', 'Samosa', 'Samosa', 'Biryani', 'Samosa',\n",
       "       'Samosa', 'Biryani', 'Samosa', 'Samosa', 'Samosa', 'Samosa',\n",
       "       'Biryani', 'Samosa', 'Samosa', 'Samosa', 'Samosa', 'Samosa',\n",
       "       'Samosa', 'Samosa', 'Samosa', 'Biryani', 'Biryani', 'Biryani',\n",
       "       'Biryani', 'Biryani', 'Biryani', 'Samosa', 'Biryani', 'Samosa',\n",
       "       'Samosa', 'Samosa', 'Biryani', 'Biryani'], dtype=object)"
      ]
     },
     "execution_count": 91,
     "metadata": {},
     "output_type": "execute_result"
    }
   ],
   "source": [
    "model.predict(x)"
   ]
  },
  {
   "cell_type": "code",
   "execution_count": null,
   "metadata": {},
   "outputs": [],
   "source": []
  },
  {
   "cell_type": "code",
   "execution_count": null,
   "metadata": {},
   "outputs": [],
   "source": []
  },
  {
   "cell_type": "code",
   "execution_count": null,
   "metadata": {},
   "outputs": [],
   "source": []
  }
 ],
 "metadata": {
  "kernelspec": {
   "display_name": "Python 3",
   "language": "python",
   "name": "python3"
  },
  "language_info": {
   "codemirror_mode": {
    "name": "ipython",
    "version": 3
   },
   "file_extension": ".py",
   "mimetype": "text/x-python",
   "name": "python",
   "nbconvert_exporter": "python",
   "pygments_lexer": "ipython3",
   "version": "3.11.3"
  },
  "orig_nbformat": 4
 },
 "nbformat": 4,
 "nbformat_minor": 2
}
